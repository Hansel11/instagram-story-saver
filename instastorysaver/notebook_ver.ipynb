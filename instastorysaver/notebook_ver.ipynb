{
 "cells": [
  {
   "cell_type": "code",
   "execution_count": 35,
   "metadata": {},
   "outputs": [],
   "source": [
    "from instagrapi import Client\n",
    "from instagrapi.exceptions import LoginRequired, ClientJSONDecodeError\n",
    "import config\n",
    "import os"
   ]
  },
  {
   "cell_type": "code",
   "execution_count": null,
   "metadata": {},
   "outputs": [],
   "source": [
    "# Setup Credentials\n",
    "USERNAME = \"\"\n",
    "PASSWORD = \"\""
   ]
  },
  {
   "cell_type": "code",
   "execution_count": 36,
   "metadata": {},
   "outputs": [],
   "source": [
    "# Setup client session and delay to avoid suspicion\n",
    "cl = Client()\n",
    "cl.delay_range = [1, 3]\n",
    "SESSION_PATH = \"session.json\""
   ]
  },
  {
   "cell_type": "code",
   "execution_count": 38,
   "metadata": {},
   "outputs": [
    {
     "name": "stdout",
     "output_type": "stream",
     "text": [
      "Login via session successful\n"
     ]
    }
   ],
   "source": [
    "def login_user():\n",
    "\n",
    "    session = cl.load_settings(SESSION_PATH)\n",
    "\n",
    "    login_via_session = False\n",
    "    login_via_pw = False\n",
    "\n",
    "    if session:\n",
    "        try:\n",
    "            cl.set_settings(session)\n",
    "            cl.login(USERNAME, PASSWORD)\n",
    "\n",
    "            # Check if session is valid\n",
    "            try:\n",
    "                cl.get_timeline_feed()\n",
    "            except LoginRequired:\n",
    "                print(\"Session is invalid, need to login via username and password\")\n",
    "\n",
    "                # Use the same device uuids across logins\n",
    "                old_session = cl.get_settings()\n",
    "                cl.set_settings({})\n",
    "                cl.set_uuids(old_session[\"uuids\"])\n",
    "\n",
    "                cl.login(USERNAME, PASSWORD)\n",
    "\n",
    "            login_via_session = True\n",
    "            cl.dump_settings(SESSION_PATH)\n",
    "            print(\"Login via session successful\")\n",
    "\n",
    "        except Exception as e:\n",
    "            print(\"Couldn't login user using session information: %s\" % e)\n",
    "\n",
    "    if not login_via_session:\n",
    "        try:\n",
    "            print(\"Attempting to login via username and password. username: %s\" % USERNAME)\n",
    "            if cl.login(USERNAME, PASSWORD):\n",
    "                login_via_pw = True\n",
    "                cl.dump_settings(SESSION_PATH)\n",
    "                print(\"Login via passoword is successful\")\n",
    "\n",
    "        except Exception as e:\n",
    "            print(\"Couldn't login user using username and password: %s\" % e)\n",
    "\n",
    "    if not login_via_pw and not login_via_session:\n",
    "        raise Exception(\"Couldn't login user with either password or session\")\n",
    "    \n",
    "login_user()"
   ]
  },
  {
   "cell_type": "code",
   "execution_count": 39,
   "metadata": {},
   "outputs": [],
   "source": [
    "# Input username to save\n",
    "users = \"\"\"\n",
    "foo\n",
    "bar\n",
    "baz\n",
    "\"\"\""
   ]
  },
  {
   "cell_type": "code",
   "execution_count": null,
   "metadata": {},
   "outputs": [
    {
     "name": "stdout",
     "output_type": "stream",
     "text": [
      "Found user ID: 382503622\n",
      "User story count: 4\n",
      "Story 3556713366771380574 already exists, skipping...\n",
      "Story 3556715267176887591 already exists, skipping...\n",
      "Story 3556826321181627698 already exists, skipping...\n",
      "Story 3556873093333572147 already exists, skipping...\n"
     ]
    }
   ],
   "source": [
    "def save_story(username):\n",
    "    user_info = cl.user_info_by_username_v1(\"clausiee\").model_dump()\n",
    "    userid = user_info[\"pk\"]\n",
    "    print(\"Found user ID: \"+userid)\n",
    "\n",
    "    # Get story count\n",
    "    stories = cl.user_stories(userid)\n",
    "    print(\"User story count: \"+str(len(stories)))\n",
    "\n",
    "    # Save story if not exists\n",
    "    for s in stories:\n",
    "        storid = s.pk\n",
    "        if not os.path.exists(\"stories\"):\n",
    "            os.makedirs(\"stories\")\n",
    "        if not (os.path.isfile(f\"stories/{username}_{storid}.mp4\") or os.path.isfile(f\"stories/{username}_{storid}.jpg\")):\n",
    "            cl.story_download(storid, f\"{username}_{storid}\", \"./stories\")\n",
    "            print(f\"Story {storid} successfully downloaded!\")\n",
    "        else:\n",
    "            print(f\"Story {storid} already exists, skipping...\")\n",
    "\n",
    "\n",
    "for username in users.split():\n",
    "    save_story(username)\n",
    "    "
   ]
  }
 ],
 "metadata": {
  "kernelspec": {
   "display_name": ".venv",
   "language": "python",
   "name": "python3"
  },
  "language_info": {
   "codemirror_mode": {
    "name": "ipython",
    "version": 3
   },
   "file_extension": ".py",
   "mimetype": "text/x-python",
   "name": "python",
   "nbconvert_exporter": "python",
   "pygments_lexer": "ipython3",
   "version": "3.13.1"
  }
 },
 "nbformat": 4,
 "nbformat_minor": 2
}
