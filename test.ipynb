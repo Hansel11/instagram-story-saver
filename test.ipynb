{
 "cells": [
  {
   "cell_type": "code",
   "execution_count": 1,
   "metadata": {},
   "outputs": [],
   "source": [
    "from instagrapi import Client\n",
    "import config"
   ]
  },
  {
   "cell_type": "code",
   "execution_count": 2,
   "metadata": {},
   "outputs": [
    {
     "name": "stdout",
     "output_type": "stream",
     "text": [
      "Logging in...\n",
      "Login as momo.momoo_ successful!\n"
     ]
    }
   ],
   "source": [
    "print(\"Logging in...\")\n",
    "cl = Client()\n",
    "cl.login(config.ACCOUNT_USERNAME, config.ACCOUNT_PASSWORD)\n",
    "print(f\"Login as {config.ACCOUNT_USERNAME} successful!\")"
   ]
  },
  {
   "cell_type": "code",
   "execution_count": 8,
   "metadata": {},
   "outputs": [],
   "source": [
    "users = \"\"\"\n",
    "\"\"\""
   ]
  },
  {
   "cell_type": "code",
   "execution_count": null,
   "metadata": {},
   "outputs": [
    {
     "name": "stdout",
     "output_type": "stream",
     "text": [
      "Found user ID: 5377117956\n",
      "User story count: 1\n",
      "Story 3552596913700901289 successfully downloaded\n",
      "Found user ID: 382503622\n",
      "User story count: 2\n",
      "Story 3552005408858758015 successfully downloaded\n",
      "Story 3552571380850188725 successfully downloaded\n"
     ]
    }
   ],
   "source": [
    "for username in users.split():\n",
    "    try:\n",
    "        userid = cl.user_id_from_username(username)\n",
    "        print(\"Found user ID: \"+userid)\n",
    "    except ValueError:\n",
    "        pass\n",
    "    \n",
    "    stories = cl.user_stories(userid)\n",
    "    print(\"User story count: \"+str(len(stories)))\n",
    "\n",
    "    import os\n",
    "\n",
    "    for s in stories:\n",
    "        storid = s.pk\n",
    "        if not os.path.exists(\"stories\"):\n",
    "            os.makedirs(\"stories\")\n",
    "        cl.story_download(storid, f\"{username}_{storid}\", \"./stories\")\n",
    "        print(f\"Story {storid} successfully downloaded\")"
   ]
  },
  {
   "cell_type": "code",
   "execution_count": 11,
   "metadata": {},
   "outputs": [
    {
     "name": "stdout",
     "output_type": "stream",
     "text": [
      "<instagrapi.Client object at 0x0000018238D59550>\n"
     ]
    }
   ],
   "source": []
  }
 ],
 "metadata": {
  "kernelspec": {
   "display_name": ".venv",
   "language": "python",
   "name": "python3"
  },
  "language_info": {
   "codemirror_mode": {
    "name": "ipython",
    "version": 3
   },
   "file_extension": ".py",
   "mimetype": "text/x-python",
   "name": "python",
   "nbconvert_exporter": "python",
   "pygments_lexer": "ipython3",
   "version": "3.13.1"
  }
 },
 "nbformat": 4,
 "nbformat_minor": 2
}
